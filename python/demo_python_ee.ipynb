{
 "cells": [
  {
   "cell_type": "code",
   "execution_count": 1,
   "id": "c5258756-bd03-481f-9631-c59b1e086beb",
   "metadata": {},
   "outputs": [],
   "source": [
    "import ee\n",
    "import geemap"
   ]
  },
  {
   "cell_type": "code",
   "execution_count": 2,
   "id": "d99bfb97-04d1-4a8d-a2a0-fb22948748b4",
   "metadata": {},
   "outputs": [
    {
     "data": {
      "application/vnd.jupyter.widget-view+json": {
       "model_id": "f898b5f1f09542069eb764dccd6ab521",
       "version_major": 2,
       "version_minor": 0
      },
      "text/plain": [
       "Map(center=[40, -100], controls=(WidgetControl(options=['position', 'transparent_bg'], widget=HBox(children=(T…"
      ]
     },
     "metadata": {},
     "output_type": "display_data"
    }
   ],
   "source": [
    "Map = geemap.Map(center=[40,-100], zoom=4)\n",
    "Map"
   ]
  },
  {
   "cell_type": "code",
   "execution_count": 3,
   "id": "806701d8-9d87-4c4e-9441-bb831548f6ce",
   "metadata": {},
   "outputs": [
    {
     "name": "stdout",
     "output_type": "stream",
     "text": [
      "Mount Everest elevation (m): 8729\n"
     ]
    }
   ],
   "source": [
    "# Add Earth Engine dataset\n",
    "image = ee.Image('USGS/SRTMGL1_003')\n",
    "\n",
    "# Set visualization parameters.\n",
    "vis_params = {\n",
    "  'min': 0,\n",
    "  'max': 4000,\n",
    "  'palette': ['006633', 'E5FFCC', '662A00', 'D8D8D8', 'F5F5F5']}\n",
    "\n",
    "# Print the elevation of Mount Everest.\n",
    "xy = ee.Geometry.Point([86.9250, 27.9881])\n",
    "elev = image.sample(xy, 30).first().get('elevation').getInfo()\n",
    "print('Mount Everest elevation (m):', elev)\n",
    "\n",
    "# Add Earth Engine layers to Map\n",
    "Map.addLayer(image, vis_params, 'DEM')\n",
    "Map.addLayer(xy, {'color': 'red'}, 'Mount Everest')\n",
    "\n",
    "# Center the map based on an Earth Engine object or coordinates (longitude, latitude)\n",
    "# Map.centerObject(xy, 4)\n",
    "Map.setCenter(86.9250, 27.9881, 4)"
   ]
  },
  {
   "cell_type": "code",
   "execution_count": 4,
   "id": "70d503bb-04ea-4d9e-842d-1d20968c85fa",
   "metadata": {},
   "outputs": [
    {
     "data": {
      "application/vnd.jupyter.widget-view+json": {
       "model_id": "f898b5f1f09542069eb764dccd6ab521",
       "version_major": 2,
       "version_minor": 0
      },
      "text/plain": [
       "Map(bottom=2016.0, center=[27.9881, 86.925], controls=(WidgetControl(options=['position', 'transparent_bg'], w…"
      ]
     },
     "metadata": {},
     "output_type": "display_data"
    }
   ],
   "source": [
    "Map.addLayerControl() # This line is not needed for ipyleaflet-based Map.\n",
    "Map"
   ]
  },
  {
   "cell_type": "code",
   "execution_count": null,
   "id": "0dec9d3b-2c3d-420d-9204-1c20392945ce",
   "metadata": {},
   "outputs": [],
   "source": []
  }
 ],
 "metadata": {
  "kernelspec": {
   "display_name": "Python 3 (ipykernel)",
   "language": "python",
   "name": "python3"
  },
  "language_info": {
   "codemirror_mode": {
    "name": "ipython",
    "version": 3
   },
   "file_extension": ".py",
   "mimetype": "text/x-python",
   "name": "python",
   "nbconvert_exporter": "python",
   "pygments_lexer": "ipython3",
   "version": "3.9.6"
  }
 },
 "nbformat": 4,
 "nbformat_minor": 5
}
