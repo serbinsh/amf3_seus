{
 "cells": [
  {
   "cell_type": "code",
   "execution_count": null,
   "id": "2906eae6-d98e-41a1-b3b5-034aab0d7208",
   "metadata": {},
   "outputs": [],
   "source": [
    "####### Create some basic land-surface maps\n",
    "\n",
    "# Step 1: Sign up for a Google Earth Engine Account here:\n",
    "# https://earthengine.google.com/signup/\n",
    "\n",
    "# you will use this to authenticate your account with GEE to run the script and\n",
    "# utilize GEE layers"
   ]
  },
  {
   "cell_type": "code",
   "execution_count": null,
   "id": "9cd61667-9418-47a0-a905-99d6c567d909",
   "metadata": {},
   "outputs": [],
   "source": [
    "# get any missing modules\n",
    "! pip install earthengine-api geemap"
   ]
  },
  {
   "cell_type": "code",
   "execution_count": 76,
   "id": "79ecb311-28e0-42cc-9c0c-8a51cba5f09f",
   "metadata": {},
   "outputs": [
    {
     "name": "stdout",
     "output_type": "stream",
     "text": [
      "/Users/sserbin/Downloads\n"
     ]
    }
   ],
   "source": [
    "# setup modules\n",
    "import matplotlib.pyplot as pl\n",
    "import matplotlib as mpl\n",
    "import sys,os,os.path,tempfile\n",
    "\n",
    "# spatial modules\n",
    "import ee\n",
    "#import geemap # currently not using as colorbars dont load properly in google collab\n",
    "import geemap.colormaps as cm\n",
    "#import geemap.foliumap as geemap # use folium instead so coloramps work on goolge collab\n",
    "import geemap\n",
    "import warnings\n",
    "\n",
    "warnings.filterwarnings('ignore')\n",
    "try:\n",
    "    get_ipython().magic(\"matplotlib inline\")\n",
    "except:\n",
    "    pl.ion()\n",
    "import numpy as np\n",
    "\n",
    "## setup output. defined dir or system temp dir\n",
    "#data_dir=os.path.expanduser(os.path.join(tempfile.gettempdir(),'geo'))\n",
    "download_dir=os.path.expanduser(os.path.join('~','Downloads'))\n",
    "\n",
    "if not os.path.exists(download_dir):\n",
    "    os.makedirs(download_dir)\n",
    "print(download_dir)"
   ]
  },
  {
   "cell_type": "code",
   "execution_count": 4,
   "id": "dd104847-14e5-4e23-880c-f9b645548189",
   "metadata": {},
   "outputs": [],
   "source": [
    "##### initialize ee API  - you need to authenticate with GEE and initialize\n",
    "\n",
    "## Trigger the authentication flow. You only need to do this once while running notebook\n",
    "#ee.Authenticate()\n",
    "\n",
    "## After inserting the API key initialize GEE\n",
    "ee.Initialize()"
   ]
  },
  {
   "cell_type": "code",
   "execution_count": 74,
   "id": "b433ddc0-83da-4a17-84cb-7e09052e8bdf",
   "metadata": {},
   "outputs": [],
   "source": [
    "### Define some GIS layers\n",
    "def table_bounds(image):\n",
    "    return image.clip(bbox)\n",
    "\n",
    "# SEUS bounding box\n",
    "bbox = ee.Geometry.Rectangle(-92.0, 32, -84.5, 36.5);\n",
    "\n",
    "states = ee.FeatureCollection('TIGER/2018/States');\n",
    "statesImage = ee.Image().paint(states, 0, 2);\n",
    "\n",
    "#ndvi_dataset = ee.ImageCollection('MODIS/MCD43A4_006_NDVI').filter(ee.Filter.date('2014-05-01', '2014-09-01'))\\\n",
    "#.filterBounds(bbox);\n",
    "ndvi_dataset = ee.ImageCollection('MODIS/MCD43A4_006_NDVI').filter(ee.Filter.date('2014-06-01', '2014-07-01'))\\\n",
    ".filterBounds(bbox);\n",
    "ndvi_colorized = ndvi_dataset.select('NDVI');\n",
    "\n",
    "NDVIClipped = ndvi_colorized.map(table_bounds);\n",
    "\n",
    "# Maximum Value Composite\n",
    "# https://developers.google.com/earth-engine/guides/ic_composite_mosaic\n",
    "maxval_ndvi_composite = ndvi_colorized.max();\n",
    "#maxval_ndvi_composite = ndvi_colorized.mean();\n",
    "# https://developers.google.com/earth-engine/guides/ic_composite_mosaic\n",
    "#recentValueComposite = ndvi_colorized.qualityMosaic('system:time_start');\n",
    "\n",
    "#ndvi_colorizedVis = {'min': 0.0, 'max': 1.0,'palette': [\n",
    "#    '141414', '383838', '808080', 'EBEB8F', 'F7D311', 'AA0000', 'D89382',\n",
    "#    'DDC9C9', 'DCCDCE', '1C6330', '68AA63', 'B5C98E', 'E1F0E5', 'a975ba',\n",
    "#    '6f198c']};\n",
    "ndvi_colorizedVis = {'min': 0.0, 'max': 1.0,'palette': ['black', 'blue', 'brown', 'yellow', 'green']};"
   ]
  },
  {
   "cell_type": "code",
   "execution_count": 83,
   "id": "f6974727-4be7-4a77-a7c2-b6ae32a2b582",
   "metadata": {
    "tags": []
   },
   "outputs": [
    {
     "data": {
      "application/vnd.jupyter.widget-view+json": {
       "model_id": "7dc4b47afac747aaab730a29998a3244",
       "version_major": 2,
       "version_minor": 0
      },
      "text/plain": [
       "Map(center=[35, -87], controls=(WidgetControl(options=['position', 'transparent_bg'], widget=HBox(children=(To…"
      ]
     },
     "metadata": {},
     "output_type": "display_data"
    }
   ],
   "source": [
    "ndvi = geemap.Map(center=[35,-87], zoom=5)\n",
    "ndvi.addLayer(maxval_ndvi_composite, ndvi_colorizedVis)\n",
    "\n",
    "#https://geemap.org/notebooks/49_colorbar/\n",
    "colors = ndvi_colorizedVis['palette']\n",
    "vmin = ndvi_colorizedVis['min']\n",
    "vmax = ndvi_colorizedVis['max']\n",
    "#ndvi.add_colorbar_branca(colors=colors, vmin=vmin, vmax=vmax, position=\"bottomright\", \n",
    "#                         layer_name=\"MODIS NDVI (-)\")\n",
    "ndvi.add_colorbar(ndvi_colorizedVis['palette'], vmin=ndvi_colorizedVis['min'], \n",
    "                     vmax=ndvi_colorizedVis['max'],\n",
    "                     caption = \"MODIS NDVI (-)\",\n",
    "                     layer_name=\"MODIS NDVI (-)\", \n",
    "                     position=\"bottomright\")\n",
    "\n",
    "\n",
    "ndvi.addLayer(statesImage, {'palette': 'black'}, 'US States')\n",
    "ndvi.addLayerControl()\n",
    "\n",
    "ndvi"
   ]
  },
  {
   "cell_type": "code",
   "execution_count": 84,
   "id": "1063f077-3de3-4fed-a9eb-bcde02c81fa2",
   "metadata": {},
   "outputs": [],
   "source": [
    "NDVIClipped = ndvi_colorized.map(table_bounds);\n",
    "ndvi_colorized = NDVIClipped\n",
    "# Maximum Value Composite\n",
    "# https://developers.google.com/earth-engine/guides/ic_composite_mosaic\n",
    "maxval_ndvi_composite = ndvi_colorized.max();"
   ]
  },
  {
   "cell_type": "code",
   "execution_count": 92,
   "id": "851b8fe1-15ea-4635-811c-b2ab82b1d445",
   "metadata": {},
   "outputs": [
    {
     "data": {
      "application/vnd.jupyter.widget-view+json": {
       "model_id": "6cee6cd393af4d74b80e74927756e8f5",
       "version_major": 2,
       "version_minor": 0
      },
      "text/plain": [
       "Map(center=[33.8, -88], controls=(WidgetControl(options=['position', 'transparent_bg'], widget=HBox(children=(…"
      ]
     },
     "metadata": {},
     "output_type": "display_data"
    }
   ],
   "source": [
    "ndvi = geemap.Map(center=[33.8,-88], zoom=7)\n",
    "ndvi.addLayer(maxval_ndvi_composite, ndvi_colorizedVis)\n",
    "\n",
    "#https://geemap.org/notebooks/49_colorbar/\n",
    "colors = ndvi_colorizedVis['palette']\n",
    "vmin = ndvi_colorizedVis['min']\n",
    "vmax = ndvi_colorizedVis['max']\n",
    "#ndvi.add_colorbar_branca(colors=colors, vmin=vmin, vmax=vmax, position=\"bottomright\", \n",
    "#                         layer_name=\"MODIS NDVI (-)\")\n",
    "ndvi.add_colorbar(ndvi_colorizedVis['palette'], vmin=ndvi_colorizedVis['min'], \n",
    "                     vmax=ndvi_colorizedVis['max'],\n",
    "                     caption = \"MODIS NDVI (-)\",\n",
    "                     layer_name=\"MODIS NDVI (-)\", \n",
    "                     position=\"bottomright\")\n",
    "\n",
    "\n",
    "ndvi.addLayer(statesImage, {'palette': 'black'}, 'US States')\n",
    "ndvi.addLayerControl()\n",
    "\n",
    "ndvi"
   ]
  },
  {
   "cell_type": "code",
   "execution_count": 9,
   "id": "d61cf544-74cc-48a5-9cb6-d6799c9729ba",
   "metadata": {},
   "outputs": [],
   "source": [
    "#out_dir = os.path.join(os.path.expanduser('~'), 'Downloads')\n",
    "#filename = os.path.join(out_dir, 'test.png')"
   ]
  },
  {
   "cell_type": "code",
   "execution_count": null,
   "id": "acb73ebc-0433-45e9-ba30-108ae4bedbe8",
   "metadata": {},
   "outputs": [],
   "source": [
    "#ndvi_dataset = ndvi.clip(bbox).unmask()\n",
    "#geemap.ee_export_image(ndvi2, filename=filename, scale=90, region=roi, file_per_band=False)"
   ]
  },
  {
   "cell_type": "code",
   "execution_count": null,
   "id": "69d69c38-726c-41e4-ae81-34df1c4097b8",
   "metadata": {},
   "outputs": [],
   "source": [
    "# https://geemap.org/notebooks/11_export_image/\n",
    "\n",
    "#download_dir=os.path.expanduser(os.path.join('~','Downloads'))\n",
    "#png_file = os.path.join(download_dir, 'my_map.png')\n",
    "#ndvi.to_image(outfile=png_file, monitor=1)\n",
    "\n",
    "#filename = os.path.join(download_dir, 'modis_mvc.tif')\n",
    "\n",
    "#image = image.clip(roi).unmask()\n",
    "#geemap.ee_export_image(ndvi_colorized, filename=filename, scale=90, region=roi, file_per_band=False)"
   ]
  }
 ],
 "metadata": {
  "kernelspec": {
   "display_name": "Python 3 (ipykernel)",
   "language": "python",
   "name": "python3"
  },
  "language_info": {
   "codemirror_mode": {
    "name": "ipython",
    "version": 3
   },
   "file_extension": ".py",
   "mimetype": "text/x-python",
   "name": "python",
   "nbconvert_exporter": "python",
   "pygments_lexer": "ipython3",
   "version": "3.9.6"
  }
 },
 "nbformat": 4,
 "nbformat_minor": 5
}
