{
 "cells": [
  {
   "cell_type": "code",
   "execution_count": null,
   "id": "3c6e61b4-3c64-427e-89b8-5bf343872c37",
   "metadata": {},
   "outputs": [],
   "source": [
    "import ee\n",
    "from ee import batch\n",
    "\n",
    "ee.Initialize()\n",
    "\n",
    "doyList = ee.List.sequence(1, 365, 16);\n",
    "\n",
    "ndvi_collection = ee.ImageCollection('MODIS/MCD43A4_006_NDVI').select('NDVI');\n",
    "\n",
    "ndviCompList = doyList.map(function(startDoy) {\n",
    "  startDoy = ee.Number(startDoy);\n",
    "    \n",
    "      return ndviCol\n",
    "    .filter(ee.Filter.calendarRange(startDoy, startDoy.add(15), 'day_of_year'))\n",
    "    .reduce(ee.Reducer.median());\n",
    "});"
   ]
  }
 ],
 "metadata": {
  "kernelspec": {
   "display_name": "Python 3 (ipykernel)",
   "language": "python",
   "name": "python3"
  },
  "language_info": {
   "codemirror_mode": {
    "name": "ipython",
    "version": 3
   },
   "file_extension": ".py",
   "mimetype": "text/x-python",
   "name": "python",
   "nbconvert_exporter": "python",
   "pygments_lexer": "ipython3",
   "version": "3.9.6"
  }
 },
 "nbformat": 4,
 "nbformat_minor": 5
}
