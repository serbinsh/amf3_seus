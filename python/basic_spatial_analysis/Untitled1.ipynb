{
 "cells": [
  {
   "cell_type": "code",
   "execution_count": 3,
   "id": "c5802cfe-3581-40ae-8312-1063274719e9",
   "metadata": {},
   "outputs": [
    {
     "name": "stdout",
     "output_type": "stream",
     "text": [
      "about to build video\n",
      "process sent to cloud\n"
     ]
    }
   ],
   "source": [
    "import ee\n",
    "from ee import batch\n",
    "\n",
    "## Initialize (a ee python thing)\n",
    "ee.Initialize()\n",
    "\n",
    "## define your collection\n",
    "collection = ee.ImageCollection('LANDSAT/LC8_L1T_TOA')\n",
    "\n",
    "#Dubai Path and Row\n",
    "path = collection.filter(ee.Filter.eq('WRS_PATH', 160))\n",
    "pathrow = path.filter(ee.Filter.eq('WRS_ROW', 43))\n",
    " \n",
    "##Filter cloudy scenes.\n",
    "clouds = pathrow.filter(ee.Filter.lt('CLOUD_COVER', 5))\n",
    "\n",
    "## select the bands, we are going for true colour... but could be any!\n",
    "bands = clouds.select(['B4', 'B3', 'B2'])\n",
    "\n",
    "##make the data 8-bit.\n",
    "def convertBit(image):\n",
    "    return image.multiply(512).uint8()  \n",
    "\n",
    "## call the conversion    \n",
    "outputVideo = bands.map(convertBit)\n",
    "\n",
    "print(\"about to build video\")\n",
    "\n",
    "#Export to video.\n",
    "# Dubai\n",
    "out = batch.Export.video.toDrive(outputVideo, description='dubai_video_andy2', dimensions = 720, framesPerSecond = 2, region=([55.6458,25.3540], [54.8135,25.3540],[54.8135,24.8042],[55.6458,24.8042]), maxFrames=10000)\n",
    "\n",
    "## process the image\n",
    "process = batch.Task.start(out)\n",
    "\n",
    "print(\"process sent to cloud\")\n"
   ]
  },
  {
   "cell_type": "code",
   "execution_count": null,
   "id": "68d0673c-ec43-41e2-8817-eba1718f5b08",
   "metadata": {},
   "outputs": [],
   "source": []
  }
 ],
 "metadata": {
  "kernelspec": {
   "display_name": "Python 3 (ipykernel)",
   "language": "python",
   "name": "python3"
  },
  "language_info": {
   "codemirror_mode": {
    "name": "ipython",
    "version": 3
   },
   "file_extension": ".py",
   "mimetype": "text/x-python",
   "name": "python",
   "nbconvert_exporter": "python",
   "pygments_lexer": "ipython3",
   "version": "3.9.6"
  }
 },
 "nbformat": 4,
 "nbformat_minor": 5
}
