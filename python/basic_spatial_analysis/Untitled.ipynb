{
 "cells": [
  {
   "cell_type": "code",
   "execution_count": null,
   "id": "2906eae6-d98e-41a1-b3b5-034aab0d7208",
   "metadata": {},
   "outputs": [],
   "source": [
    "####### Create some basic land-surface maps\n",
    "\n",
    "# Step 1: Sign up for a Google Earth Engine Account here:\n",
    "# https://earthengine.google.com/signup/\n",
    "\n",
    "# you will use this to authenticate your account with GEE to run the script and\n",
    "# utilize GEE layers"
   ]
  },
  {
   "cell_type": "code",
   "execution_count": null,
   "id": "9cd61667-9418-47a0-a905-99d6c567d909",
   "metadata": {},
   "outputs": [],
   "source": [
    "# get any missing modules\n",
    "! pip install earthengine-api geemap"
   ]
  },
  {
   "cell_type": "code",
   "execution_count": 2,
   "id": "79ecb311-28e0-42cc-9c0c-8a51cba5f09f",
   "metadata": {},
   "outputs": [
    {
     "name": "stdout",
     "output_type": "stream",
     "text": [
      "/var/folders/xp/h3k9vf3n2jx181ts786_yjrn9c2gjq/T/geo\n",
      " \n",
      "****** Raster and blockage results output folder ******\n",
      "****** Note: In Google Collab, use the dir navigation tool on the left of the screen ******\n",
      "****** Use the dir navigation to go up one level, then navigate to tmp/geo ******\n"
     ]
    }
   ],
   "source": [
    "# setup modules\n",
    "import matplotlib.pyplot as pl\n",
    "import matplotlib as mpl\n",
    "import sys,os,os.path,tempfile\n",
    "\n",
    "# spatial modules\n",
    "import ee\n",
    "#import geemap # currently not using as colorbars dont load properly in google collab\n",
    "import geemap.colormaps as cm\n",
    "import geemap.foliumap as geemap # use folium instead so coloramps work on goolge collab\n",
    "import warnings\n",
    "\n",
    "warnings.filterwarnings('ignore')\n",
    "try:\n",
    "    get_ipython().magic(\"matplotlib inline\")\n",
    "except:\n",
    "    pl.ion()\n",
    "import numpy as np\n",
    "\n",
    "## setup output. defined dir or system temp dir\n",
    "data_dir=os.path.expanduser(os.path.join(tempfile.gettempdir(),'geo'))\n",
    "\n",
    "if not os.path.exists(data_dir):\n",
    "    os.makedirs(data_dir)\n",
    "print(data_dir)\n",
    "\n",
    "os.environ['WRADLIB_DATA']=os.path.expanduser(data_dir)\n",
    "print(\" \")\n",
    "print(\"****** Raster and blockage results output folder ******\")\n",
    "print(\"****** Note: In Google Collab, use the dir navigation tool on the left of the screen ******\")\n",
    "print(\"****** Use the dir navigation to go up one level, then navigate to tmp/geo ******\")"
   ]
  },
  {
   "cell_type": "code",
   "execution_count": null,
   "id": "dd104847-14e5-4e23-880c-f9b645548189",
   "metadata": {},
   "outputs": [],
   "source": []
  }
 ],
 "metadata": {
  "kernelspec": {
   "display_name": "Python 3 (ipykernel)",
   "language": "python",
   "name": "python3"
  },
  "language_info": {
   "codemirror_mode": {
    "name": "ipython",
    "version": 3
   },
   "file_extension": ".py",
   "mimetype": "text/x-python",
   "name": "python",
   "nbconvert_exporter": "python",
   "pygments_lexer": "ipython3",
   "version": "3.9.6"
  }
 },
 "nbformat": 4,
 "nbformat_minor": 5
}
