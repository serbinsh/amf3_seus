{
 "cells": [
  {
   "cell_type": "code",
   "execution_count": 47,
   "id": "e25bbe76-d61f-4b90-9684-48db0b7d5ff0",
   "metadata": {},
   "outputs": [
    {
     "name": "stdout",
     "output_type": "stream",
     "text": [
      "/Users/sserbin/scratch/beam_block\n"
     ]
    }
   ],
   "source": [
    "# setup modules\n",
    "import wradlib as wrl\n",
    "import matplotlib.pyplot as pl\n",
    "import matplotlib as mpl\n",
    "import numpy as np\n",
    "import warnings\n",
    "import ee\n",
    "import geemap\n",
    "import elevation\n",
    "import geopandas\n",
    "import sys,os,os.path\n",
    "\n",
    "warnings.filterwarnings('ignore')\n",
    "try:\n",
    "    get_ipython().magic(\"matplotlib inline\")\n",
    "except:\n",
    "    pl.ion()\n",
    "import numpy as np\n",
    "\n",
    "data_dir=os.path.expanduser('~/scratch/beam_block')\n",
    "if not os.path.exists(data_dir):\n",
    "    os.makedirs(data_dir)\n",
    "\n",
    "# create geo subdir\n",
    "if not os.path.exists(data_dir+'/geo'):\n",
    "    os.makedirs(data_dir+'/geo')\n",
    "    \n",
    "    \n",
    "os.environ['WRADLIB_DATA']=os.path.expanduser(data_dir)\n",
    "print(os.environ['WRADLIB_DATA'])\n",
    "\n",
    "ee.Initialize()"
   ]
  },
  {
   "cell_type": "code",
   "execution_count": 48,
   "id": "0cf9d973-5324-461e-a53c-d0528c5508ef",
   "metadata": {},
   "outputs": [],
   "source": [
    "#sitecoords = (34.655312, -87.340714, 175)\n",
    "#Courtland,AL airport\n",
    "sitecoords = (-87.3401, 34.6554, 179)\n",
    "nrays = 360 # number of rays\n",
    "nbins = 1000 # number of range bins\n",
    "el = 1.0 # vertical antenna pointing angle (deg)\n",
    "bw = 1.0 # half power beam width (deg)\n",
    "range_res = 100. # range resolution (meters)"
   ]
  },
  {
   "cell_type": "code",
   "execution_count": 49,
   "id": "52b7031a-53ce-4916-bc48-1838d3ba9359",
   "metadata": {},
   "outputs": [],
   "source": [
    "r = np.arange(nbins) * range_res\n",
    "beamradius = wrl.util.half_power_radius(r, bw)"
   ]
  },
  {
   "cell_type": "code",
   "execution_count": 50,
   "id": "1c32516e-3888-4d1c-a582-0fef7dfa750d",
   "metadata": {},
   "outputs": [],
   "source": [
    "coord = wrl.georef.sweep_centroids(nrays, range_res, nbins, el)\n",
    "coords = wrl.georef.spherical_to_proj(coord[..., 0],\n",
    "                                      coord[..., 1],\n",
    "                                      coord[..., 2], sitecoords)\n",
    "lon = coords[..., 0]\n",
    "lat = coords[..., 1]\n",
    "alt = coords[..., 2]"
   ]
  },
  {
   "cell_type": "code",
   "execution_count": 51,
   "id": "e14922f9-b1ea-4562-ad5a-579713d24d01",
   "metadata": {},
   "outputs": [
    {
     "name": "stdout",
     "output_type": "stream",
     "text": [
      "lon,lat,alt: (360, 1000, 3)\n"
     ]
    }
   ],
   "source": [
    "polcoords = coords[..., :2]\n",
    "print(\"lon,lat,alt:\", coords.shape)"
   ]
  },
  {
   "cell_type": "code",
   "execution_count": 52,
   "id": "0e83ce91-1c1a-4add-86bd-b39b5765519b",
   "metadata": {},
   "outputs": [
    {
     "name": "stdout",
     "output_type": "stream",
     "text": [
      "Radar bounding box:\n",
      "\t35.56\n",
      "-88.43             -86.25\n",
      "\t33.75\n"
     ]
    }
   ],
   "source": [
    "rlimits = (lon.min(), lat.min(), lon.max(), lat.max())\n",
    "print(\"Radar bounding box:\\n\\t%.2f\\n%.2f             %.2f\\n\\t%.2f\" %\n",
    "      (lat.max(), lon.min(), lon.max(), lat.min()))"
   ]
  },
  {
   "cell_type": "code",
   "execution_count": 53,
   "id": "9b5b9499-b7ef-464e-a39d-1087929c1a47",
   "metadata": {},
   "outputs": [
    {
     "name": "stdout",
     "output_type": "stream",
     "text": [
      "/Users/sserbin/scratch/beam_block/geo/amf3_dem.tif\n",
      "make: Nothing to be done for `download'.\n",
      "make: Nothing to be done for `all'.\n",
      "cp SRTM3.vrt SRTM3.c8e9867047044029aa928bd8ca1cbe62.vrt\n",
      "gdal_translate -q -co TILED=YES -co COMPRESS=DEFLATE -co ZLEVEL=9 -co PREDICTOR=2 -projwin -89.0 35.0 -85.0 33.0 SRTM3.c8e9867047044029aa928bd8ca1cbe62.vrt /Users/sserbin/scratch/beam_block/geo/amf3_dem.tif\n",
      "rm -f SRTM3.c8e9867047044029aa928bd8ca1cbe62.vrt\n",
      "find cache -size 0 -name \"*.tif\" -delete\n",
      "rm -f SRTM1.*.vrt\n",
      "rm -f -r spool/*\n"
     ]
    }
   ],
   "source": [
    "#-94.614744, 29.317645, -74.441221, 36.520919\n",
    "#\n",
    "# -88.563628, 33.618876, -85.843867, 34.993936  -- smaller region around BNF\n",
    "dem_path = os.path.expanduser(data_dir+'/geo/'+'amf3_dem.tif')\n",
    "print(dem_path)\n",
    "#elevation.clip(bounds=(12.35, 41.8, 12.65, 42), output='Rome-DEM.tif')\n",
    "elevation.clip(bounds=(-89.0, 33.0, -85.0, 35.0), output=dem_path, product='SRTM3')\n",
    "elevation.clean()"
   ]
  },
  {
   "cell_type": "code",
   "execution_count": 54,
   "id": "0e2528e8-176f-4337-9b84-49d66a4f5e6f",
   "metadata": {},
   "outputs": [
    {
     "name": "stdout",
     "output_type": "stream",
     "text": [
      "(683, 1494, 3300, 2400)\n",
      "[[[-88.43041667  33.75458333]\n",
      "  [-88.42958333  33.75458333]\n",
      "  [-88.42875     33.75458333]\n",
      "  ...\n",
      "  [-86.25208333  33.75458333]\n",
      "  [-86.25125     33.75458333]\n",
      "  [-86.25041667  33.75458333]]\n",
      "\n",
      " [[-88.43041667  33.75375   ]\n",
      "  [-88.42958333  33.75375   ]\n",
      "  [-88.42875     33.75375   ]\n",
      "  ...\n",
      "  [-86.25208333  33.75375   ]\n",
      "  [-86.25125     33.75375   ]\n",
      "  [-86.25041667  33.75375   ]]\n",
      "\n",
      " [[-88.43041667  33.75291667]\n",
      "  [-88.42958333  33.75291667]\n",
      "  [-88.42875     33.75291667]\n",
      "  ...\n",
      "  [-86.25208333  33.75291667]\n",
      "  [-86.25125     33.75291667]\n",
      "  [-86.25041667  33.75291667]]\n",
      "\n",
      " ...\n",
      "\n",
      " [[-88.43041667  33.00208333]\n",
      "  [-88.42958333  33.00208333]\n",
      "  [-88.42875     33.00208333]\n",
      "  ...\n",
      "  [-86.25208333  33.00208333]\n",
      "  [-86.25125     33.00208333]\n",
      "  [-86.25041667  33.00208333]]\n",
      "\n",
      " [[-88.43041667  33.00125   ]\n",
      "  [-88.42958333  33.00125   ]\n",
      "  [-88.42875     33.00125   ]\n",
      "  ...\n",
      "  [-86.25208333  33.00125   ]\n",
      "  [-86.25125     33.00125   ]\n",
      "  [-86.25041667  33.00125   ]]\n",
      "\n",
      " [[-88.43041667  33.00041667]\n",
      "  [-88.42958333  33.00041667]\n",
      "  [-88.42875     33.00041667]\n",
      "  ...\n",
      "  [-86.25208333  33.00041667]\n",
      "  [-86.25125     33.00041667]\n",
      "  [-86.25041667  33.00041667]]]\n"
     ]
    }
   ],
   "source": [
    "rasterfile = wrl.util.get_wradlib_data_file(os.path.expanduser(data_dir+'/geo/'+'amf3_dem.tif'))\n",
    "#print(rasterfile)\n",
    "ds = wrl.io.open_raster(rasterfile)\n",
    "#print(ds)\n",
    "rastervalues, rastercoords, proj = wrl.georef.extract_raster_dataset(ds, nodata=-32768.)\n",
    "#print(rastercoords)\n",
    "#print(rastervalues)\n",
    "#print(proj)\n",
    "\n",
    "# Clip the region inside our bounding box\n",
    "ind = wrl.util.find_bbox_indices(rastercoords, rlimits)\n",
    "rastercoords = rastercoords[ind[1]:ind[3], ind[0]:ind[2], ...]\n",
    "rastervalues = rastervalues[ind[1]:ind[3], ind[0]:ind[2]]\n",
    "#print(ind)\n",
    "#print(rastercoords)\n",
    "\n",
    "# Map rastervalues to polar grid points\n",
    "polarvalues = wrl.ipol.cart_to_irregular_spline(rastercoords, rastervalues,\n",
    "                                             polcoords, order=3,\n",
    "                                             prefilter=False)"
   ]
  },
  {
   "cell_type": "code",
   "execution_count": 55,
   "id": "16744949-2192-4829-9b54-2d42f112a351",
   "metadata": {},
   "outputs": [
    {
     "name": "stdout",
     "output_type": "stream",
     "text": [
      "(360, 1000)\n"
     ]
    }
   ],
   "source": [
    "PBB = wrl.qual.beam_block_frac(polarvalues, alt, beamradius)\n",
    "PBB = np.ma.masked_invalid(PBB)\n",
    "print(PBB.shape)"
   ]
  },
  {
   "cell_type": "code",
   "execution_count": 56,
   "id": "180202ea-f480-40a8-9a52-f971bd9a8371",
   "metadata": {},
   "outputs": [
    {
     "name": "stdout",
     "output_type": "stream",
     "text": [
      "(360, 1000)\n"
     ]
    }
   ],
   "source": [
    "CBB = wrl.qual.cum_beam_block_frac(PBB)\n",
    "print(CBB.shape)"
   ]
  },
  {
   "cell_type": "code",
   "execution_count": 57,
   "id": "7fd6350f-31d5-4ebd-b71f-ccbaec330b17",
   "metadata": {},
   "outputs": [],
   "source": [
    "# just a little helper function to style x and y axes of our maps\n",
    "def annotate_map(ax, cm=None, title=\"\"):\n",
    "    ticks = (ax.get_xticks()/1000).astype(np.int)\n",
    "    ax.set_xticklabels(ticks)\n",
    "    ticks = (ax.get_yticks()/1000).astype(np.int)\n",
    "    ax.set_yticklabels(ticks)\n",
    "    ax.set_xlabel(\"Kilometers\")\n",
    "    ax.set_ylabel(\"Kilometers\")\n",
    "    if not cm is None:\n",
    "        pl.colorbar(cm, ax=ax)\n",
    "    if not title==\"\":\n",
    "        ax.set_title(title)\n",
    "    ax.grid()"
   ]
  },
  {
   "cell_type": "code",
   "execution_count": 58,
   "id": "ecc7df3f-f342-4108-945f-f4891fa96038",
   "metadata": {},
   "outputs": [
    {
     "data": {
      "image/png": "[encoded data removed]",
      "text/plain": [
       "<Figure size 1080x864 with 6 Axes>"
      ]
     },
     "metadata": {
      "needs_background": "light"
     },
     "output_type": "display_data"
    }
   ],
   "source": [
    "fig = pl.figure(figsize=(15, 12))\n",
    "\n",
    "# create subplots\n",
    "ax1 = pl.subplot2grid((2, 2), (0, 0))\n",
    "ax2 = pl.subplot2grid((2, 2), (0, 1))\n",
    "ax3 = pl.subplot2grid((2, 2), (1, 0), colspan=2, rowspan=1)\n",
    "\n",
    "# azimuth angle\n",
    "angle = 225\n",
    "\n",
    "# Plot terrain (on ax1)\n",
    "ax1, dem = wrl.vis.plot_ppi(polarvalues,\n",
    "                            ax=ax1, r=r,\n",
    "                            az=coord[:,0,1],\n",
    "                            cmap=mpl.cm.terrain, vmin=0.)\n",
    "ax1.plot([0,np.sin(np.radians(angle))*1e5],\n",
    "         [0,np.cos(np.radians(angle))*1e5],\"r-\")\n",
    "ax1.plot(sitecoords[0], sitecoords[1], 'ro')\n",
    "annotate_map(ax1, dem, 'Terrain within {0} km range'.format(np.max(r / 1000.) + 0.1))\n",
    "\n",
    "# Plot CBB (on ax2)\n",
    "ax2, cbb = wrl.vis.plot_ppi(CBB, ax=ax2, r=r,\n",
    "                            az=coord[:,0,1],\n",
    "                            cmap=mpl.cm.PuRd, vmin=0, vmax=1)\n",
    "annotate_map(ax2, cbb, 'Beam-Blockage Fraction')\n",
    "\n",
    "# Plot single ray terrain profile on ax3\n",
    "bc, = ax3.plot(r / 1000., alt[angle, :], '-b',\n",
    "               linewidth=3, label='Beam Center')\n",
    "b3db, = ax3.plot(r / 1000., (alt[angle, :] + beamradius), ':b',\n",
    "                 linewidth=1.5, label='3 dB Beam width')\n",
    "ax3.plot(r / 1000., (alt[angle, :] - beamradius), ':b')\n",
    "ax3.fill_between(r / 1000., 0.,\n",
    "                 polarvalues[angle, :],\n",
    "                 color='0.75')\n",
    "ax3.set_xlim(0., np.max(r / 1000.) + 0.1)\n",
    "ax3.set_ylim(0., 3000)\n",
    "ax3.set_xlabel('Range (km)')\n",
    "ax3.set_ylabel('Altitude (m)')\n",
    "ax3.grid()\n",
    "\n",
    "axb = ax3.twinx()\n",
    "bbf, = axb.plot(r / 1000., CBB[angle, :], '-k',\n",
    "                label='BBF')\n",
    "axb.set_ylabel('Beam-blockage fraction')\n",
    "axb.set_ylim(0., 1.)\n",
    "axb.set_xlim(0., np.max(r / 1000.) + 0.1)\n",
    "\n",
    "\n",
    "legend = ax3.legend((bc, b3db, bbf),\n",
    "                    ('Beam Center', '3 dB Beam width', 'BBF'),\n",
    "                    loc='upper left', fontsize=10)"
   ]
  },
  {
   "cell_type": "code",
   "execution_count": null,
   "id": "b06b44b1-cb19-4e5e-9b59-d2aa9d28087f",
   "metadata": {},
   "outputs": [],
   "source": []
  }
 ],
 "metadata": {
  "kernelspec": {
   "display_name": "Python 3 (ipykernel)",
   "language": "python",
   "name": "python3"
  },
  "language_info": {
   "codemirror_mode": {
    "name": "ipython",
    "version": 3
   },
   "file_extension": ".py",
   "mimetype": "text/x-python",
   "name": "python",
   "nbconvert_exporter": "python",
   "pygments_lexer": "ipython3",
   "version": "3.9.6"
  }
 },
 "nbformat": 4,
 "nbformat_minor": 5
}
